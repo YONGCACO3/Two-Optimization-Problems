{
 "cells": [
  {
   "cell_type": "code",
   "execution_count": 9,
   "id": "aacbae67",
   "metadata": {},
   "outputs": [
    {
     "name": "stdout",
     "output_type": "stream",
     "text": [
      "Optimal\n",
      "Optimal value: 2988.0\n",
      "Optimal solution:\n",
      "x_(0,_0) = 45.0\n",
      "x_(1,_2) = 26.0\n",
      "x_(2,_2) = 42.0\n",
      "x_(3,_1) = 53.0\n",
      "x_(4,_0) = 20.0\n",
      "x_(4,_2) = 9.0\n",
      "x_(5,_1) = 27.0\n",
      "x_(5,_2) = 11.0\n"
     ]
    }
   ],
   "source": [
    "#Part1-1\n",
    "import pulp\n",
    "# Define the problem\n",
    "problem = pulp.LpProblem(\"Minimize Shipping Costs\", pulp.LpMinimize)\n",
    "\n",
    "# Decision variables\n",
    "x = pulp.LpVariable.dicts(\"x\", ((i, j) for i in range(6) for j in range(3)), lowBound=0, cat='Integer')\n",
    "\n",
    "# Shipping costs\n",
    "C1 = [\n",
    "    [12, 15, 17],\n",
    "    [14, 9, 10],\n",
    "    [13, 20, 11],\n",
    "    [17, 16, 19],\n",
    "    [7, 14, 12],\n",
    "    [22, 16, 18]\n",
    "]\n",
    "\n",
    "# Waste production per week\n",
    "waste_perweek = [45, 26, 42, 53, 29, 38]\n",
    "\n",
    "# Waste disposal site capacities\n",
    "disposal_capacities = [65, 80, 105]\n",
    "\n",
    "# Objective function\n",
    "problem += pulp.lpSum(C1[i][j] * x[i, j] for i in range(6) for j in range(3))\n",
    "\n",
    "# Constraint 1\n",
    "for i in range(6):\n",
    "    problem += pulp.lpSum(x[i, j] for j in range(3)) == waste_perweek [i]\n",
    "# Constraint 2\n",
    "for j in range(3):\n",
    "    problem += pulp.lpSum(x[i, j] for i in range(6)) <= disposal_capacities[j]\n",
    "\n",
    "# Solve the problem\n",
    "problem.solve()\n",
    "\n",
    "# Print the results\n",
    "print(pulp.LpStatus[problem.status])\n",
    "print(\"Optimal value:\", pulp.value(problem.objective))\n",
    "print(\"Optimal solution:\")\n",
    "for v in problem.variables():\n",
    "    if v.varValue > 0:\n",
    "        print(v.name, \"=\", v.varValue)"
   ]
  },
  {
   "cell_type": "markdown",
   "id": "b7e9b0dc",
   "metadata": {},
   "source": [
    "In the case without transshipment, the optimal solution for distribution of waste is as follows:\n",
    "\n",
    "Denver needs to convey 45 barrels of waste to Orangeburg;\n",
    "<br/>Morganton needs to convey 26 barrels of waste to Macon;\n",
    "<br/>Morrisville needs to convey 42 barrels of waste to Macon;\n",
    "<br/>Pineville needs to convey 53 barrels of waste to Florence;\n",
    "<br/>Rockhill needs to convey 20 barrels of waste to Orangeburg and 9 barrels of waste to Macon;\n",
    "<br/>Statesville needs to convey 27 barrels of waste to Florence and 11 barrels of waste to Macon"
   ]
  },
  {
   "cell_type": "code",
   "execution_count": 8,
   "id": "06c82c86-95fd-4b63-a533-6287b92ddd70",
   "metadata": {},
   "outputs": [
    {
     "name": "stdout",
     "output_type": "stream",
     "text": [
      "Optimal\n",
      "Optimal value: 2674.0\n",
      "Optimal solution:\n",
      "x_(1,_1) = 42.0\n",
      "x_(1,_2) = 46.0\n",
      "x_(2,_2) = 42.0\n",
      "x_(4,_0) = 65.0\n",
      "x_(5,_1) = 38.0\n",
      "y_(0,_1) = 45.0\n",
      "y_(3,_1) = 17.0\n",
      "y_(3,_4) = 36.0\n"
     ]
    },
    {
     "name": "stderr",
     "output_type": "stream",
     "text": [
      "c:\\Users\\JY\\.ipython\\lib\\site-packages\\pulp\\pulp.py:1352: UserWarning: Spaces are not permitted in the name. Converted to '_'\n",
      "  warnings.warn(\"Spaces are not permitted in the name. Converted to '_'\")\n"
     ]
    }
   ],
   "source": [
    "#Part1-2\n",
    "\n",
    "# Define the problem\n",
    "problem = pulp.LpProblem(\"Minimize Shipping Costs\", pulp.LpMinimize)\n",
    "\n",
    "# Add two more Decision variables\n",
    "x = pulp.LpVariable.dicts(\"x\", ((i, j) for i in range(6) for j in range(3)), lowBound=0, cat='Integer')\n",
    "y = pulp.LpVariable.dicts(\"y\", ((i, k) for i in range(6) for k in range(6)), lowBound=0, cat='Integer')\n",
    "z = pulp.LpVariable.dicts(\"z\", ((l, j) for j in range(3) for l in range(3)), lowBound=0, cat='Integer')\n",
    "\n",
    "# Shipping costs\n",
    "C1 = [\n",
    "    [12, 15, 17],\n",
    "    [14, 9, 10],\n",
    "    [13, 20, 11],\n",
    "    [17, 16, 19],\n",
    "    [7, 14, 12],\n",
    "    [22, 16, 18]\n",
    "]\n",
    "\n",
    "C2 = [\n",
    "    [100, 3, 4, 9, 5, 4],\n",
    "    [6, 100, 7, 6, 9, 4],\n",
    "    [5, 7, 100, 3, 4, 9],\n",
    "    [5, 4, 3,100, 3, 11],\n",
    "    [5, 9, 5, 3, 100, 14],\n",
    "    [4, 7, 11, 12, 8, 100]\n",
    "]\n",
    "\n",
    "C3 = [\n",
    "    [100, 12, 10],\n",
    "    [12,100, 15],\n",
    "    [10, 15, 100]\n",
    "]\n",
    "\n",
    "\n",
    "# Objective function\n",
    "problem += pulp.lpSum(C1[i][j] * x[i, j] for i in range(6) for j in range(3)) + pulp.lpSum(C2[i][k] * y[i, k] for i in range(6) for k in range(6)) + pulp.lpSum(C3[j][l] * z[j, l] for j in range(3) for l in range(3))\n",
    "\n",
    "# Constraint 1\n",
    "for i in range(6):\n",
    "    problem += pulp.lpSum(x[i, j] for j in range(3)) + pulp.lpSum(y[i, k] for k in range(6))- pulp.lpSum(y[k, i] for k in range(6)) == waste_perweek[i]\n",
    "# Constraint 2\n",
    "for j in range(3):\n",
    "    problem += pulp.lpSum(x[i, j] for i in range(6)) + pulp.lpSum(z[l, j] for l in range(3)) <= disposal_capacities[j]\n",
    "\n",
    "\n",
    "# Solve the problem\n",
    "problem.solve()\n",
    "\n",
    "# Print the results\n",
    "print(pulp.LpStatus[problem.status])\n",
    "print(\"Optimal value:\", pulp.value(problem.objective))\n",
    "print(\"Optimal solution:\")\n",
    "for v in problem.variables():\n",
    "    if v.varValue > 0:\n",
    "        print(v.name, \"=\", v.varValue)"
   ]
  },
  {
   "cell_type": "markdown",
   "id": "62616fc2",
   "metadata": {},
   "source": [
    "In the case with transshipment, the optimal solution for distribution of waste is as follows:\n",
    "\n",
    "Denver needs to convey 45 barrels of waste to Morganton plant;\n",
    "<br/>Morganton needs to convey 42 barrels of waste to Florence and 46 barrels of waste to Macon;\n",
    "<br/>Morrisville needs to convey 42 barrels of waste to Macon;\n",
    "<br/>Pineville needs to convey 17 barrels of waste to Morganton plant and 36 barrels of waste to Rockhill plant;\n",
    "<br/>Rockhill needs to convey 65barrels of waste to Orangeburg;\n",
    "<br/>Statesville needs to convey 38 barrels of waste to Florence."
   ]
  },
  {
   "cell_type": "code",
   "execution_count": 7,
   "id": "1e34243b",
   "metadata": {},
   "outputs": [
    {
     "data": {
      "text/plain": [
       "array([0.195408  , 0.13954931, 0.18655866, 0.11176972, 0.20804043,\n",
       "       0.15867388])"
      ]
     },
     "execution_count": 7,
     "metadata": {},
     "output_type": "execute_result"
    }
   ],
   "source": [
    "#Part 2-1\n",
    "import numpy as np\n",
    "from scipy.optimize import minimize\n",
    "\n",
    "# Define your data: expected returns, covariance matrix, and minimum baseline return\n",
    "expected_returns = np.array([0.07,0.12,0.11,0.14,0.14,0.09])\n",
    "covariance_matrix = np.array([[0.001,0.0003,-0.0003,0.00035,-0.00035,0.0004],\n",
    "                             [0,0.009,0.0004,0.0016,-0.0016,0.0006],\n",
    "                             [0,0,0.008,0.0015,-0.0055,-0.0007],\n",
    "                             [0,0,0,0.012,-0.0005,0.0008],\n",
    "                             [0,0,0,0,0.012,-0.0008],\n",
    "                             [0,0,0,0,0,0.005]])\n",
    "min_return = 0.11\n",
    "\n",
    "n = len(expected_returns)\n",
    "\n",
    "#obejective function\n",
    "def portfolio_risk(x, covariance_matrix):\n",
    "    return x @ covariance_matrix @ x\n",
    "# Constraints\n",
    "def constraint_sum_to_one(x):\n",
    "    return np.sum(x) - 1\n",
    "def constraint_min_return(x, expected_returns, min_return):\n",
    "    return expected_returns @ x - min_return\n",
    "constraints = (\n",
    "    {\"type\": \"eq\", \"fun\": constraint_sum_to_one},\n",
    "    {\"type\": \"ineq\", \"fun\": lambda x: constraint_min_return(x, expected_returns, min_return)},\n",
    ")\n",
    "\n",
    "bounds = [(0, 1) for _ in range(n)]\n",
    "initial_guess = np.array([1/n] * n)\n",
    "result = minimize(\n",
    "    portfolio_risk, initial_guess, args=(covariance_matrix), constraints=constraints, bounds=bounds\n",
    ")\n",
    "optimal_allocations = result.x\n",
    "\n",
    "optimal_allocations\n",
    "\n"
   ]
  },
  {
   "cell_type": "markdown",
   "id": "db0cba3f",
   "metadata": {},
   "source": [
    "To pursue the minimum expected return of 11% at a minimum risk, our investor are supposed to\n",
    "invest $1,954 in bonds, $1,395 in high tech stocks, $1,866 in foreign stocks, $1,118 in call options and $1,587 in\n",
    "gold."
   ]
  },
  {
   "cell_type": "code",
   "execution_count": 6,
   "id": "ee5c99f6",
   "metadata": {},
   "outputs": [
    {
     "data": {
      "image/png": "[encoded data removed]",
      "text/plain": [
       "<Figure size 640x480 with 1 Axes>"
      ]
     },
     "metadata": {},
     "output_type": "display_data"
    }
   ],
   "source": [
    "# Part 2-2\n",
    "risk_return_pairs = []\n",
    "\n",
    "for min_return in [0.1, 0.105, 0.11, 0.115, 0.12, 0.125, 0.13, 0.135]:\n",
    "    constraints = (\n",
    "        {\"type\": \"eq\", \"fun\": constraint_sum_to_one},\n",
    "        {\"type\": \"ineq\", \"fun\": lambda x: constraint_min_return(x, expected_returns, min_return)},\n",
    "    )\n",
    "    \n",
    "    result = minimize(\n",
    "        portfolio_risk, initial_guess, args=(covariance_matrix), constraints=constraints, bounds=bounds\n",
    "    )\n",
    "    \n",
    "    risk_return_pairs.append((result.fun, expected_returns @ result.x))\n",
    "\n",
    "# Plot the results\n",
    "import matplotlib.pyplot as plt\n",
    "\n",
    "risks, returns = zip(*risk_return_pairs)\n",
    "\n",
    "plt.plot(risks, returns, \"o-\")\n",
    "plt.xlabel(\"Risk\")\n",
    "plt.ylabel(\"Expected return\")\n",
    "plt.title(\"Expected return versus risk tradeoff\")\n",
    "plt.show()"
   ]
  },
  {
   "cell_type": "markdown",
   "id": "e3ab2d13",
   "metadata": {},
   "source": [
    "The optimization results show that the risks increase from 0.00075 to 0.0037 as the expected portfolio\n",
    "returns increase from 0.1 to 0.135."
   ]
  }
 ],
 "metadata": {
  "kernelspec": {
   "display_name": "Python 3 (ipykernel)",
   "language": "python",
   "name": "python3"
  },
  "language_info": {
   "codemirror_mode": {
    "name": "ipython",
    "version": 3
   },
   "file_extension": ".py",
   "mimetype": "text/x-python",
   "name": "python",
   "nbconvert_exporter": "python",
   "pygments_lexer": "ipython3",
   "version": "3.10.8"
  }
 },
 "nbformat": 4,
 "nbformat_minor": 5
}
